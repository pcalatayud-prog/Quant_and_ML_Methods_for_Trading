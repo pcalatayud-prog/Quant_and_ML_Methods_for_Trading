{
 "cells": [
  {
   "cell_type": "code",
   "execution_count": 1,
   "id": "0c549747",
   "metadata": {},
   "outputs": [
    {
     "data": {
      "text/html": [
       "        <script type=\"text/javascript\">\n",
       "        window.PlotlyConfig = {MathJaxConfig: 'local'};\n",
       "        if (window.MathJax) {MathJax.Hub.Config({SVG: {font: \"STIX-Web\"}});}\n",
       "        if (typeof require !== 'undefined') {\n",
       "        require.undef(\"plotly\");\n",
       "        requirejs.config({\n",
       "            paths: {\n",
       "                'plotly': ['https://cdn.plot.ly/plotly-2.8.3.min']\n",
       "            }\n",
       "        });\n",
       "        require(['plotly'], function(Plotly) {\n",
       "            window._Plotly = Plotly;\n",
       "        });\n",
       "        }\n",
       "        </script>\n",
       "        "
      ]
     },
     "metadata": {},
     "output_type": "display_data"
    }
   ],
   "source": [
    "#Importing Required Libraries\n",
    "import pandas as pd\n",
    "import numpy as np\n",
    "import yfinance as yf\n",
    "import matplotlib.pyplot as plt\n",
    "import cufflinks as cf\n",
    "from pandas_datareader import data\n",
    "from pandas.tseries.frequencies import to_offset\n",
    "import csv"
   ]
  },
  {
   "cell_type": "markdown",
   "id": "14b969b2",
   "metadata": {},
   "source": [
    "**5. Machine Learning**"
   ]
  },
  {
   "cell_type": "code",
   "execution_count": 2,
   "id": "86e04fca",
   "metadata": {
    "scrolled": true
   },
   "outputs": [],
   "source": [
    "#df\n",
    "df = pd.read_csv(\"df.csv\", parse_dates=['Date'],index_col=\"Date\")"
   ]
  },
  {
   "cell_type": "code",
   "execution_count": 3,
   "id": "2682bcb8",
   "metadata": {},
   "outputs": [],
   "source": [
    "#training\n",
    "train_set_start = '1992-06-01'\n",
    "train_set_end = '2002-05-31'\n",
    "#validation\n",
    "val_set_start = '2002-06-01'\n",
    "val_set_end = '2012-05-31'\n",
    "#Test\n",
    "test_set_start = '2012-06-01'\n",
    "test_set_end = '2022-05-31'"
   ]
  },
  {
   "cell_type": "code",
   "execution_count": 4,
   "id": "775a0c6a",
   "metadata": {
    "scrolled": true
   },
   "outputs": [],
   "source": [
    "#df_training\n",
    "df_training = pd.read_csv(\"df_training.csv\", parse_dates=['Date'],index_col=\"Date\")"
   ]
  },
  {
   "cell_type": "code",
   "execution_count": 5,
   "id": "a64bdb60",
   "metadata": {
    "scrolled": true
   },
   "outputs": [],
   "source": [
    "#df_validation\n",
    "#df_validation = pd.read_csv(\"df_validation.csv\", parse_dates=['Date'],index_col=\"Date\")"
   ]
  },
  {
   "cell_type": "code",
   "execution_count": 6,
   "id": "98c4bb3f",
   "metadata": {
    "scrolled": true
   },
   "outputs": [],
   "source": [
    "#df_test\n",
    "#df_test = pd.read_csv(\"df_test.csv\", parse_dates=['Date'],index_col=\"Date\")"
   ]
  },
  {
   "cell_type": "code",
   "execution_count": 7,
   "id": "143460a4",
   "metadata": {},
   "outputs": [],
   "source": [
    "import pandas as pd\n",
    "import numpy as np\n",
    "import matplotlib.pyplot as plt\n",
    "from scipy.optimize import brute\n",
    "plt.style.use(\"seaborn\")"
   ]
  },
  {
   "cell_type": "code",
   "execution_count": 9,
   "id": "d3d0b1be",
   "metadata": {},
   "outputs": [
    {
     "name": "stdout",
     "output_type": "stream",
     "text": [
      "[*********************100%***********************]  1 of 1 completed\n"
     ]
    }
   ],
   "source": [
    "spy_train = yf.download(\"^GSPC\", start = train_set_start, end = test_set_end)"
   ]
  },
  {
   "cell_type": "code",
   "execution_count": 42,
   "id": "aa9c4ad8",
   "metadata": {},
   "outputs": [
    {
     "name": "stdout",
     "output_type": "stream",
     "text": [
      "[*********************100%***********************]  1 of 1 completed\n",
      "[*********************100%***********************]  1 of 1 completed\n",
      "[*********************100%***********************]  1 of 1 completed\n",
      "[*********************100%***********************]  1 of 1 completed\n",
      "[*********************100%***********************]  1 of 1 completed\n",
      "[*********************100%***********************]  1 of 1 completed\n"
     ]
    }
   ],
   "source": [
    "# MACRO INDECES\n",
    "week_13_treasury_train = yf.download(\"^IRX\", start = train_set_start, end = test_set_end)\n",
    "gold_oz_train = yf.download(\"GC=F\", start = train_set_start, end = test_set_end)\n",
    "Nasdaq_train = yf.download(\"^IXIC\", start = train_set_start, end = test_set_end)\n",
    "Dow_Jones_train = yf.download(\"^DJI\", start = train_set_start, end = test_set_end)\n",
    "crude_train = yf.download(\"CL=F\", start = train_set_start, end = test_set_end)\n",
    "VIX_train = yf.download(\"^VIX\", start = train_set_start, end = test_set_end)"
   ]
  },
  {
   "cell_type": "code",
   "execution_count": 19,
   "id": "15cf3022",
   "metadata": {},
   "outputs": [],
   "source": [
    "df=spy_train"
   ]
  },
  {
   "cell_type": "code",
   "execution_count": 26,
   "id": "e1d1c5b9",
   "metadata": {},
   "outputs": [],
   "source": [
    "df.drop([\"Adj Close\"],axis=1,inplace=True)"
   ]
  },
  {
   "cell_type": "code",
   "execution_count": 38,
   "id": "69745f97",
   "metadata": {},
   "outputs": [],
   "source": [
    "#I want to predict\n",
    "df[\"returns_daily_open_close\"] = np.log(df.Close / df.Open)\n",
    "#.apply(np.exp)\n",
    "#Known Data\n",
    "df[\"returns_daily_close_open\"] = np.log(df.Close / df.Close.shift(1))\n"
   ]
  },
  {
   "cell_type": "code",
   "execution_count": 41,
   "id": "67cbc02f",
   "metadata": {},
   "outputs": [],
   "source": [
    "#df[\"returns_daily_open_close\"].apply(np.exp)"
   ]
  },
  {
   "cell_type": "code",
   "execution_count": null,
   "id": "ec8f40e0",
   "metadata": {},
   "outputs": [],
   "source": [
    "df.insert(0, \"name\", column_to_move)"
   ]
  },
  {
   "cell_type": "code",
   "execution_count": null,
   "id": "53412ee7",
   "metadata": {},
   "outputs": [],
   "source": []
  },
  {
   "cell_type": "code",
   "execution_count": null,
   "id": "37934c75",
   "metadata": {},
   "outputs": [],
   "source": []
  }
 ],
 "metadata": {
  "kernelspec": {
   "display_name": "Python 3 (ipykernel)",
   "language": "python",
   "name": "python3"
  },
  "language_info": {
   "codemirror_mode": {
    "name": "ipython",
    "version": 3
   },
   "file_extension": ".py",
   "mimetype": "text/x-python",
   "name": "python",
   "nbconvert_exporter": "python",
   "pygments_lexer": "ipython3",
   "version": "3.9.7"
  }
 },
 "nbformat": 4,
 "nbformat_minor": 5
}
