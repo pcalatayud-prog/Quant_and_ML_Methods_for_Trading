{
 "cells": [
  {
   "cell_type": "code",
   "execution_count": 2,
   "id": "c2309bb3",
   "metadata": {},
   "outputs": [],
   "source": [
    "import numpy as np\n",
    "from scipy import stats\n",
    "import pandas as pd\n",
    "import time\n",
    "import time\n",
    "#import math\n",
    "#importing packages\n",
    "import seaborn as sns\n",
    "import matplotlib.pyplot as plt\n",
    "#import math"
   ]
  },
  {
   "cell_type": "code",
   "execution_count": 4,
   "id": "62645da3",
   "metadata": {},
   "outputs": [],
   "source": [
    "def performance_model(X_test,Y_test_real,Y_test_predicted,returns_open_close_daily): \n",
    "    '''\n",
    "    Arguments\n",
    "    ==========\n",
    "    X_test\n",
    "    \n",
    "    Y_test_real\n",
    "    \n",
    "    Y_test_predicted\n",
    "    \n",
    "    returns_open_close_daily\n",
    "    ''' \n",
    "        \n",
    "    #Testing decisions\n",
    "    validation = pd.DataFrame()\n",
    "\n",
    "    validation[\"returns_real_buy_hold_daily\"]=X_test.Close.pct_change()\n",
    "    validation[\"returns_open_close_daily\"]=returns_real\n",
    "    validation[\"y_test_real\"]=y_test\n",
    "    validation[\"y_test_predicted\"]=y_test_predicted\n",
    "    validation[\"action\"]=validation[\"y_test_real\"]==validation[\"y_test_predicted\"]\n",
    "    validation[\"position\"] = np.where(validation[\"y_test_predicted\"]<1, -1, 1 )\n",
    "\n",
    "    #Performance strategy\n",
    "    validation[\"strategy_performance_day\"] = 1 + validation.position * validation[\"returns_open_close_daily\"]\n",
    "    validation[\"strategy_creturns\"]=validation.strategy_performance_day.cumprod()\n",
    "\n",
    "    #Performance buy and hold\n",
    "    validation[\"hold_performance_day\"] = 1 + validation[\"returns_real_buy_hold_daily\"]\n",
    "    validation[\"hold_creturns\"]=validation.hold_performance_day.cumprod()\n",
    "\n",
    "    #Calculating drawdown\n",
    "    validation[\"cummax_BH\"] = validation.hold_creturns.cummax()\n",
    "    validation[\"cummax_strategy\"] = validation.strategy_creturns.cummax()\n",
    "\n",
    "    validation[\"drawndown_BH\"] = (validation[\"cummax_BH\"] - validation[\"hold_creturns\"])/validation[\"cummax_BH\"]\n",
    "    validation[\"drawndown_strategy\"] = (validation[\"cummax_strategy\"] - validation[\"strategy_creturns\"])/validation[\"cummax_strategy\"]\n",
    "\n",
    "    perf = validation[\"strategy_creturns\"].iloc[-1] # absolute performance of the strategy\n",
    "    perf = round(perf, 3)\n",
    "\n",
    "    benchmark = validation[\"hold_creturns\"].iloc[-1] #Benchmark - buy & hold strategy\n",
    "    benchmark = round(benchmark, 3)\n",
    "\n",
    "    outperf = perf - benchmark # out-/underperformance of strategy\n",
    "\n",
    "    drawdown_BH = round(validation[\"drawndown_BH\"].max(),3)\n",
    "    drawdown_strategy = round(validation[\"drawndown_strategy\"].max(),3)\n",
    "\n",
    "    print(\"Strategy Performance: \" + str(perf))\n",
    "    print(\"Hold and Buy Performance: \" + str(benchmark))\n",
    "    print(\"Strategy Maximun Drawdown: \" + str(drawdown_strategy))\n",
    "    print(\"Hold and Buy Drawdown: \" + str(drawdown_BH))\n",
    "        \n",
    "    return validation\n"
   ]
  },
  {
   "cell_type": "code",
   "execution_count": null,
   "id": "23b66a3d",
   "metadata": {},
   "outputs": [],
   "source": []
  }
 ],
 "metadata": {
  "kernelspec": {
   "display_name": "Python 3 (ipykernel)",
   "language": "python",
   "name": "python3"
  },
  "language_info": {
   "codemirror_mode": {
    "name": "ipython",
    "version": 3
   },
   "file_extension": ".py",
   "mimetype": "text/x-python",
   "name": "python",
   "nbconvert_exporter": "python",
   "pygments_lexer": "ipython3",
   "version": "3.9.7"
  }
 },
 "nbformat": 4,
 "nbformat_minor": 5
}
