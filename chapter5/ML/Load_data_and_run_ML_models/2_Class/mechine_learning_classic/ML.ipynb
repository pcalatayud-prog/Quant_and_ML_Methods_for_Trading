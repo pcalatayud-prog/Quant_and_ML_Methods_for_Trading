{
 "cells": [
  {
   "cell_type": "markdown",
   "id": "6ab1c317",
   "metadata": {},
   "source": [
    "# 0. Load Libraries"
   ]
  },
  {
   "cell_type": "code",
   "execution_count": 37,
   "id": "8dfea8cf",
   "metadata": {},
   "outputs": [],
   "source": [
    "import numpy as np\n",
    "from scipy import stats\n",
    "import pandas as pd\n",
    "import time\n",
    "import time\n",
    "#import math\n",
    "#importing packages\n",
    "import seaborn as sns\n",
    "import matplotlib.pyplot as plt\n",
    "#import math\n",
    "#test performance of 2 class vs buy and hold\n",
    "import performance_2_class"
   ]
  },
  {
   "cell_type": "code",
   "execution_count": 2,
   "id": "51782ebe",
   "metadata": {},
   "outputs": [],
   "source": [
    "# Sklearn\n",
    "import sklearn\n",
    "# Preprocessor from sklearn\n",
    "from sklearn.preprocessing import MinMaxScaler\n",
    "from sklearn.model_selection import train_test_split\n",
    "\n",
    "# Keras\n",
    "import keras\n",
    "# ANNs from keras\n",
    "from keras.models import Sequential\n",
    "from keras.utils.vis_utils import plot_model\n",
    "from keras.layers import Dropout, Dense, LSTM\n",
    "\n",
    "# Import cufflinks for visualization\n",
    "import matplotlib.pyplot as plt\n",
    "plt.rcParams['figure.figsize'] =(20,10)\n",
    "plt.style.use('fivethirtyeight')\n",
    "\n",
    "# Ignore warnings\n",
    "import warnings\n",
    "warnings.filterwarnings('ignore')\n",
    "\n",
    "# Feature selection\n",
    "import seaborn as sns\n",
    "from sklearn.feature_selection import SelectKBest\n",
    "from sklearn.feature_selection import f_classif\n",
    "# Feature importance\n",
    "from sklearn.ensemble import ExtraTreesClassifier\n",
    "import matplotlib.pyplot as plt\n",
    "\n",
    "# Models\n",
    "from sklearn.naive_bayes import MultinomialNB\n",
    "from sklearn.linear_model import LogisticRegression\n",
    "from sklearn.neighbors import KNeighborsClassifier\n",
    "from sklearn.svm import LinearSVC\n",
    "from sklearn.tree import DecisionTreeClassifier\n",
    "from sklearn.ensemble import BaggingClassifier\n",
    "from sklearn.tree import DecisionTreeClassifier\n",
    "from sklearn.ensemble import AdaBoostClassifier\n",
    "from sklearn.tree import DecisionTreeClassifier\n",
    "from sklearn.ensemble import RandomForestClassifier\n",
    "from sklearn.ensemble import VotingClassifier\n",
    "#from skpp import ProjectionPursuitRegressor\n",
    "#from skpp import ProjectionPursuitClassifier\n",
    "# # ANNs\n",
    "from tensorflow.keras import Input\n",
    "from tensorflow.keras.layers import Dense, LSTM\n",
    "from tensorflow.keras.models import load_model, Model\n",
    "\n",
    "# Model Metrics\n",
    "from sklearn.metrics import accuracy_score\n",
    "# ROC Curve\n",
    "from sklearn.metrics import roc_curve\n",
    "from sklearn.metrics import roc_auc_score\n",
    "\n",
    "# Resample\n",
    "# Block Bootstrap\n",
    "#from arch.bootstrap import StationaryBootstrap\n",
    "# Time Series cross-validation\n",
    "#from sklearn.model_selection import TimeSeriesSplit\n",
    "\n",
    "# Class encoder\n",
    "#from sklearn.preprocessing import LabelEncoder \n",
    "seed_value= 4"
   ]
  },
  {
   "cell_type": "code",
   "execution_count": 3,
   "id": "4dcaca2b",
   "metadata": {},
   "outputs": [
    {
     "data": {
      "text/plain": [
       "'C:\\\\Users\\\\pcalatayud\\\\Desktop\\\\jupyter\\\\TFM\\\\ML\\\\Load_data_and_run_ML_models\\\\2_Class\\\\mechine_learning_classic'"
      ]
     },
     "execution_count": 3,
     "metadata": {},
     "output_type": "execute_result"
    }
   ],
   "source": [
    "pwd"
   ]
  },
  {
   "cell_type": "markdown",
   "id": "ed24e452",
   "metadata": {},
   "source": [
    "# 1. Load data"
   ]
  },
  {
   "cell_type": "code",
   "execution_count": 4,
   "id": "2f2d3c45",
   "metadata": {},
   "outputs": [],
   "source": [
    "path = \"C:\\\\Users\\\\pcalatayud\\\\Desktop\\\\jupyter\\\\TFM\\\\ML\\\\Transformation\\\\Data_Transformed_2_Class\\\\\""
   ]
  },
  {
   "cell_type": "code",
   "execution_count": 5,
   "id": "5904307a",
   "metadata": {},
   "outputs": [],
   "source": [
    "name = \"2_CLASS_DF_CURATED_2022_12_7_11.csv\""
   ]
  },
  {
   "cell_type": "code",
   "execution_count": 6,
   "id": "d152f22e",
   "metadata": {},
   "outputs": [
    {
     "data": {
      "text/plain": [
       "'C:\\\\Users\\\\pcalatayud\\\\Desktop\\\\jupyter\\\\TFM\\\\ML\\\\Transformation\\\\Data_Transformed_2_Class\\\\2_CLASS_DF_CURATED_2022_12_7_11.csv'"
      ]
     },
     "execution_count": 6,
     "metadata": {},
     "output_type": "execute_result"
    }
   ],
   "source": [
    "file = path + name\n",
    "file"
   ]
  },
  {
   "cell_type": "code",
   "execution_count": 7,
   "id": "5ed0d7d0",
   "metadata": {},
   "outputs": [],
   "source": [
    "df = pd.read_csv(file, index_col=0)"
   ]
  },
  {
   "cell_type": "code",
   "execution_count": 8,
   "id": "3e93c694",
   "metadata": {},
   "outputs": [
    {
     "data": {
      "text/html": [
       "<div>\n",
       "<style scoped>\n",
       "    .dataframe tbody tr th:only-of-type {\n",
       "        vertical-align: middle;\n",
       "    }\n",
       "\n",
       "    .dataframe tbody tr th {\n",
       "        vertical-align: top;\n",
       "    }\n",
       "\n",
       "    .dataframe thead th {\n",
       "        text-align: right;\n",
       "    }\n",
       "</style>\n",
       "<table border=\"1\" class=\"dataframe\">\n",
       "  <thead>\n",
       "    <tr style=\"text-align: right;\">\n",
       "      <th></th>\n",
       "      <th>Y_label</th>\n",
       "      <th>Y_next_daily_returns</th>\n",
       "      <th>simple_daily_returns</th>\n",
       "      <th>Close</th>\n",
       "      <th>Volume</th>\n",
       "      <th>log_daily_returns</th>\n",
       "    </tr>\n",
       "    <tr>\n",
       "      <th>Date</th>\n",
       "      <th></th>\n",
       "      <th></th>\n",
       "      <th></th>\n",
       "      <th></th>\n",
       "      <th></th>\n",
       "      <th></th>\n",
       "    </tr>\n",
       "  </thead>\n",
       "  <tbody>\n",
       "    <tr>\n",
       "      <th>2002-07-18</th>\n",
       "      <td>0</td>\n",
       "      <td>-0.038352</td>\n",
       "      <td>-0.026385</td>\n",
       "      <td>881.559998</td>\n",
       "      <td>1736300000</td>\n",
       "      <td>0.026739</td>\n",
       "    </tr>\n",
       "    <tr>\n",
       "      <th>2002-07-19</th>\n",
       "      <td>0</td>\n",
       "      <td>-0.032922</td>\n",
       "      <td>-0.038352</td>\n",
       "      <td>847.750000</td>\n",
       "      <td>2654100000</td>\n",
       "      <td>0.039107</td>\n",
       "    </tr>\n",
       "    <tr>\n",
       "      <th>2002-07-22</th>\n",
       "      <td>0</td>\n",
       "      <td>-0.027017</td>\n",
       "      <td>-0.032922</td>\n",
       "      <td>819.849976</td>\n",
       "      <td>2248060000</td>\n",
       "      <td>0.033476</td>\n",
       "    </tr>\n",
       "    <tr>\n",
       "      <th>2002-07-23</th>\n",
       "      <td>1</td>\n",
       "      <td>0.057314</td>\n",
       "      <td>-0.027017</td>\n",
       "      <td>797.700012</td>\n",
       "      <td>2441020000</td>\n",
       "      <td>0.027389</td>\n",
       "    </tr>\n",
       "    <tr>\n",
       "      <th>2002-07-24</th>\n",
       "      <td>0</td>\n",
       "      <td>-0.005620</td>\n",
       "      <td>0.057314</td>\n",
       "      <td>843.429993</td>\n",
       "      <td>2775560000</td>\n",
       "      <td>-0.055732</td>\n",
       "    </tr>\n",
       "    <tr>\n",
       "      <th>2002-07-25</th>\n",
       "      <td>1</td>\n",
       "      <td>0.016884</td>\n",
       "      <td>-0.005620</td>\n",
       "      <td>838.679993</td>\n",
       "      <td>2424700000</td>\n",
       "      <td>0.005636</td>\n",
       "    </tr>\n",
       "    <tr>\n",
       "      <th>2002-07-26</th>\n",
       "      <td>1</td>\n",
       "      <td>0.054078</td>\n",
       "      <td>0.016884</td>\n",
       "      <td>852.840027</td>\n",
       "      <td>1796100000</td>\n",
       "      <td>-0.016743</td>\n",
       "    </tr>\n",
       "    <tr>\n",
       "      <th>2002-07-29</th>\n",
       "      <td>1</td>\n",
       "      <td>0.004249</td>\n",
       "      <td>0.054078</td>\n",
       "      <td>898.960022</td>\n",
       "      <td>1778650000</td>\n",
       "      <td>-0.052667</td>\n",
       "    </tr>\n",
       "    <tr>\n",
       "      <th>2002-07-30</th>\n",
       "      <td>1</td>\n",
       "      <td>0.009792</td>\n",
       "      <td>0.004249</td>\n",
       "      <td>902.780029</td>\n",
       "      <td>1826090000</td>\n",
       "      <td>-0.004240</td>\n",
       "    </tr>\n",
       "    <tr>\n",
       "      <th>2002-07-31</th>\n",
       "      <td>0</td>\n",
       "      <td>-0.029574</td>\n",
       "      <td>0.009792</td>\n",
       "      <td>911.619995</td>\n",
       "      <td>2049360000</td>\n",
       "      <td>-0.009744</td>\n",
       "    </tr>\n",
       "  </tbody>\n",
       "</table>\n",
       "</div>"
      ],
      "text/plain": [
       "            Y_label  Y_next_daily_returns  simple_daily_returns       Close  \\\n",
       "Date                                                                          \n",
       "2002-07-18        0             -0.038352             -0.026385  881.559998   \n",
       "2002-07-19        0             -0.032922             -0.038352  847.750000   \n",
       "2002-07-22        0             -0.027017             -0.032922  819.849976   \n",
       "2002-07-23        1              0.057314             -0.027017  797.700012   \n",
       "2002-07-24        0             -0.005620              0.057314  843.429993   \n",
       "2002-07-25        1              0.016884             -0.005620  838.679993   \n",
       "2002-07-26        1              0.054078              0.016884  852.840027   \n",
       "2002-07-29        1              0.004249              0.054078  898.960022   \n",
       "2002-07-30        1              0.009792              0.004249  902.780029   \n",
       "2002-07-31        0             -0.029574              0.009792  911.619995   \n",
       "\n",
       "                Volume  log_daily_returns  \n",
       "Date                                       \n",
       "2002-07-18  1736300000           0.026739  \n",
       "2002-07-19  2654100000           0.039107  \n",
       "2002-07-22  2248060000           0.033476  \n",
       "2002-07-23  2441020000           0.027389  \n",
       "2002-07-24  2775560000          -0.055732  \n",
       "2002-07-25  2424700000           0.005636  \n",
       "2002-07-26  1796100000          -0.016743  \n",
       "2002-07-29  1778650000          -0.052667  \n",
       "2002-07-30  1826090000          -0.004240  \n",
       "2002-07-31  2049360000          -0.009744  "
      ]
     },
     "execution_count": 8,
     "metadata": {},
     "output_type": "execute_result"
    }
   ],
   "source": [
    "df.iloc[0:10,0:6]"
   ]
  },
  {
   "cell_type": "markdown",
   "id": "288846d8",
   "metadata": {},
   "source": [
    "# 2. Splitting data in training and test"
   ]
  },
  {
   "cell_type": "code",
   "execution_count": 9,
   "id": "f66d3023",
   "metadata": {},
   "outputs": [],
   "source": [
    "X = df.copy()"
   ]
  },
  {
   "cell_type": "code",
   "execution_count": 10,
   "id": "b73620cb",
   "metadata": {},
   "outputs": [
    {
     "data": {
      "text/html": [
       "<div>\n",
       "<style scoped>\n",
       "    .dataframe tbody tr th:only-of-type {\n",
       "        vertical-align: middle;\n",
       "    }\n",
       "\n",
       "    .dataframe tbody tr th {\n",
       "        vertical-align: top;\n",
       "    }\n",
       "\n",
       "    .dataframe thead th {\n",
       "        text-align: right;\n",
       "    }\n",
       "</style>\n",
       "<table border=\"1\" class=\"dataframe\">\n",
       "  <thead>\n",
       "    <tr style=\"text-align: right;\">\n",
       "      <th></th>\n",
       "      <th>Y_label</th>\n",
       "      <th>Y_next_daily_returns</th>\n",
       "      <th>simple_daily_returns</th>\n",
       "      <th>Close</th>\n",
       "      <th>Volume</th>\n",
       "      <th>log_daily_returns</th>\n",
       "      <th>day-of-week</th>\n",
       "      <th>week-of-year</th>\n",
       "      <th>month-of-year</th>\n",
       "      <th>day_volatility_%</th>\n",
       "      <th>...</th>\n",
       "      <th>VIX_returns</th>\n",
       "      <th>US_returns</th>\n",
       "      <th>GDP</th>\n",
       "      <th>CPILFESL</th>\n",
       "      <th>PCE</th>\n",
       "      <th>UMCSENT</th>\n",
       "      <th>INDPRO</th>\n",
       "      <th>IPMAN</th>\n",
       "      <th>MACD_Signal</th>\n",
       "      <th>RSI</th>\n",
       "    </tr>\n",
       "    <tr>\n",
       "      <th>Date</th>\n",
       "      <th></th>\n",
       "      <th></th>\n",
       "      <th></th>\n",
       "      <th></th>\n",
       "      <th></th>\n",
       "      <th></th>\n",
       "      <th></th>\n",
       "      <th></th>\n",
       "      <th></th>\n",
       "      <th></th>\n",
       "      <th></th>\n",
       "      <th></th>\n",
       "      <th></th>\n",
       "      <th></th>\n",
       "      <th></th>\n",
       "      <th></th>\n",
       "      <th></th>\n",
       "      <th></th>\n",
       "      <th></th>\n",
       "      <th></th>\n",
       "      <th></th>\n",
       "    </tr>\n",
       "  </thead>\n",
       "  <tbody>\n",
       "    <tr>\n",
       "      <th>2002-07-18</th>\n",
       "      <td>0</td>\n",
       "      <td>-0.038352</td>\n",
       "      <td>-0.026385</td>\n",
       "      <td>881.559998</td>\n",
       "      <td>1736300000</td>\n",
       "      <td>0.026739</td>\n",
       "      <td>3</td>\n",
       "      <td>29</td>\n",
       "      <td>7</td>\n",
       "      <td>0.030888</td>\n",
       "      <td>...</td>\n",
       "      <td>-0.002273</td>\n",
       "      <td>-0.000765</td>\n",
       "      <td>0.008871</td>\n",
       "      <td>0.001577</td>\n",
       "      <td>0.008849</td>\n",
       "      <td>-0.046537</td>\n",
       "      <td>-0.000229</td>\n",
       "      <td>-0.001066</td>\n",
       "      <td>-20.428083</td>\n",
       "      <td>24.627836</td>\n",
       "    </tr>\n",
       "    <tr>\n",
       "      <th>2002-07-19</th>\n",
       "      <td>0</td>\n",
       "      <td>-0.032922</td>\n",
       "      <td>-0.038352</td>\n",
       "      <td>847.750000</td>\n",
       "      <td>2654100000</td>\n",
       "      <td>0.039107</td>\n",
       "      <td>4</td>\n",
       "      <td>29</td>\n",
       "      <td>7</td>\n",
       "      <td>0.046896</td>\n",
       "      <td>...</td>\n",
       "      <td>0.048051</td>\n",
       "      <td>0.002408</td>\n",
       "      <td>0.008871</td>\n",
       "      <td>0.001577</td>\n",
       "      <td>0.008849</td>\n",
       "      <td>-0.046537</td>\n",
       "      <td>-0.000229</td>\n",
       "      <td>-0.001066</td>\n",
       "      <td>-22.343688</td>\n",
       "      <td>21.351079</td>\n",
       "    </tr>\n",
       "    <tr>\n",
       "      <th>2002-07-22</th>\n",
       "      <td>0</td>\n",
       "      <td>-0.027017</td>\n",
       "      <td>-0.032922</td>\n",
       "      <td>819.849976</td>\n",
       "      <td>2248060000</td>\n",
       "      <td>0.033476</td>\n",
       "      <td>0</td>\n",
       "      <td>30</td>\n",
       "      <td>7</td>\n",
       "      <td>0.050255</td>\n",
       "      <td>...</td>\n",
       "      <td>0.070023</td>\n",
       "      <td>0.003929</td>\n",
       "      <td>0.008871</td>\n",
       "      <td>0.001577</td>\n",
       "      <td>0.008849</td>\n",
       "      <td>-0.046537</td>\n",
       "      <td>-0.000229</td>\n",
       "      <td>-0.001066</td>\n",
       "      <td>-24.872814</td>\n",
       "      <td>20.786866</td>\n",
       "    </tr>\n",
       "    <tr>\n",
       "      <th>2002-07-23</th>\n",
       "      <td>1</td>\n",
       "      <td>0.057314</td>\n",
       "      <td>-0.027017</td>\n",
       "      <td>797.700012</td>\n",
       "      <td>2441020000</td>\n",
       "      <td>0.027389</td>\n",
       "      <td>1</td>\n",
       "      <td>30</td>\n",
       "      <td>7</td>\n",
       "      <td>0.039642</td>\n",
       "      <td>...</td>\n",
       "      <td>0.062692</td>\n",
       "      <td>0.007462</td>\n",
       "      <td>0.008871</td>\n",
       "      <td>0.001577</td>\n",
       "      <td>0.008849</td>\n",
       "      <td>-0.046537</td>\n",
       "      <td>-0.000229</td>\n",
       "      <td>-0.001066</td>\n",
       "      <td>-27.915234</td>\n",
       "      <td>20.657899</td>\n",
       "    </tr>\n",
       "  </tbody>\n",
       "</table>\n",
       "<p>4 rows × 26 columns</p>\n",
       "</div>"
      ],
      "text/plain": [
       "            Y_label  Y_next_daily_returns  simple_daily_returns       Close  \\\n",
       "Date                                                                          \n",
       "2002-07-18        0             -0.038352             -0.026385  881.559998   \n",
       "2002-07-19        0             -0.032922             -0.038352  847.750000   \n",
       "2002-07-22        0             -0.027017             -0.032922  819.849976   \n",
       "2002-07-23        1              0.057314             -0.027017  797.700012   \n",
       "\n",
       "                Volume  log_daily_returns  day-of-week  week-of-year  \\\n",
       "Date                                                                   \n",
       "2002-07-18  1736300000           0.026739            3            29   \n",
       "2002-07-19  2654100000           0.039107            4            29   \n",
       "2002-07-22  2248060000           0.033476            0            30   \n",
       "2002-07-23  2441020000           0.027389            1            30   \n",
       "\n",
       "            month-of-year  day_volatility_%  ...  VIX_returns  US_returns  \\\n",
       "Date                                         ...                            \n",
       "2002-07-18              7          0.030888  ...    -0.002273   -0.000765   \n",
       "2002-07-19              7          0.046896  ...     0.048051    0.002408   \n",
       "2002-07-22              7          0.050255  ...     0.070023    0.003929   \n",
       "2002-07-23              7          0.039642  ...     0.062692    0.007462   \n",
       "\n",
       "                 GDP  CPILFESL       PCE   UMCSENT    INDPRO     IPMAN  \\\n",
       "Date                                                                     \n",
       "2002-07-18  0.008871  0.001577  0.008849 -0.046537 -0.000229 -0.001066   \n",
       "2002-07-19  0.008871  0.001577  0.008849 -0.046537 -0.000229 -0.001066   \n",
       "2002-07-22  0.008871  0.001577  0.008849 -0.046537 -0.000229 -0.001066   \n",
       "2002-07-23  0.008871  0.001577  0.008849 -0.046537 -0.000229 -0.001066   \n",
       "\n",
       "            MACD_Signal        RSI  \n",
       "Date                                \n",
       "2002-07-18   -20.428083  24.627836  \n",
       "2002-07-19   -22.343688  21.351079  \n",
       "2002-07-22   -24.872814  20.786866  \n",
       "2002-07-23   -27.915234  20.657899  \n",
       "\n",
       "[4 rows x 26 columns]"
      ]
     },
     "execution_count": 10,
     "metadata": {},
     "output_type": "execute_result"
    }
   ],
   "source": [
    "X.head(4)"
   ]
  },
  {
   "cell_type": "code",
   "execution_count": 11,
   "id": "d55b72c3",
   "metadata": {},
   "outputs": [],
   "source": [
    "Y_real = X[\"Y_label\"]\n",
    "returns_real = X[\"Y_next_daily_returns\"]"
   ]
  },
  {
   "cell_type": "code",
   "execution_count": null,
   "id": "69987b76",
   "metadata": {},
   "outputs": [],
   "source": []
  },
  {
   "cell_type": "code",
   "execution_count": 12,
   "id": "87c9f406",
   "metadata": {},
   "outputs": [],
   "source": [
    "X.drop([\"Y_label\",\"Y_next_daily_returns\"],1,inplace=True)"
   ]
  },
  {
   "cell_type": "code",
   "execution_count": 13,
   "id": "9be8f506",
   "metadata": {},
   "outputs": [
    {
     "data": {
      "text/html": [
       "<div>\n",
       "<style scoped>\n",
       "    .dataframe tbody tr th:only-of-type {\n",
       "        vertical-align: middle;\n",
       "    }\n",
       "\n",
       "    .dataframe tbody tr th {\n",
       "        vertical-align: top;\n",
       "    }\n",
       "\n",
       "    .dataframe thead th {\n",
       "        text-align: right;\n",
       "    }\n",
       "</style>\n",
       "<table border=\"1\" class=\"dataframe\">\n",
       "  <thead>\n",
       "    <tr style=\"text-align: right;\">\n",
       "      <th></th>\n",
       "      <th>simple_daily_returns</th>\n",
       "      <th>Close</th>\n",
       "      <th>Volume</th>\n",
       "      <th>log_daily_returns</th>\n",
       "      <th>day-of-week</th>\n",
       "      <th>week-of-year</th>\n",
       "      <th>month-of-year</th>\n",
       "      <th>day_volatility_%</th>\n",
       "      <th>gold_returns</th>\n",
       "      <th>oil_returns</th>\n",
       "      <th>...</th>\n",
       "      <th>VIX_returns</th>\n",
       "      <th>US_returns</th>\n",
       "      <th>GDP</th>\n",
       "      <th>CPILFESL</th>\n",
       "      <th>PCE</th>\n",
       "      <th>UMCSENT</th>\n",
       "      <th>INDPRO</th>\n",
       "      <th>IPMAN</th>\n",
       "      <th>MACD_Signal</th>\n",
       "      <th>RSI</th>\n",
       "    </tr>\n",
       "    <tr>\n",
       "      <th>Date</th>\n",
       "      <th></th>\n",
       "      <th></th>\n",
       "      <th></th>\n",
       "      <th></th>\n",
       "      <th></th>\n",
       "      <th></th>\n",
       "      <th></th>\n",
       "      <th></th>\n",
       "      <th></th>\n",
       "      <th></th>\n",
       "      <th></th>\n",
       "      <th></th>\n",
       "      <th></th>\n",
       "      <th></th>\n",
       "      <th></th>\n",
       "      <th></th>\n",
       "      <th></th>\n",
       "      <th></th>\n",
       "      <th></th>\n",
       "      <th></th>\n",
       "      <th></th>\n",
       "    </tr>\n",
       "  </thead>\n",
       "  <tbody>\n",
       "    <tr>\n",
       "      <th>2002-07-18</th>\n",
       "      <td>-0.026385</td>\n",
       "      <td>881.559998</td>\n",
       "      <td>1736300000</td>\n",
       "      <td>0.026739</td>\n",
       "      <td>3</td>\n",
       "      <td>29</td>\n",
       "      <td>7</td>\n",
       "      <td>0.030888</td>\n",
       "      <td>0.0</td>\n",
       "      <td>-0.005411</td>\n",
       "      <td>...</td>\n",
       "      <td>-0.002273</td>\n",
       "      <td>-0.000765</td>\n",
       "      <td>0.008871</td>\n",
       "      <td>0.001577</td>\n",
       "      <td>0.008849</td>\n",
       "      <td>-0.046537</td>\n",
       "      <td>-0.000229</td>\n",
       "      <td>-0.001066</td>\n",
       "      <td>-20.428083</td>\n",
       "      <td>24.627836</td>\n",
       "    </tr>\n",
       "    <tr>\n",
       "      <th>2002-07-19</th>\n",
       "      <td>-0.038352</td>\n",
       "      <td>847.750000</td>\n",
       "      <td>2654100000</td>\n",
       "      <td>0.039107</td>\n",
       "      <td>4</td>\n",
       "      <td>29</td>\n",
       "      <td>7</td>\n",
       "      <td>0.046896</td>\n",
       "      <td>0.0</td>\n",
       "      <td>0.021284</td>\n",
       "      <td>...</td>\n",
       "      <td>0.048051</td>\n",
       "      <td>0.002408</td>\n",
       "      <td>0.008871</td>\n",
       "      <td>0.001577</td>\n",
       "      <td>0.008849</td>\n",
       "      <td>-0.046537</td>\n",
       "      <td>-0.000229</td>\n",
       "      <td>-0.001066</td>\n",
       "      <td>-22.343688</td>\n",
       "      <td>21.351079</td>\n",
       "    </tr>\n",
       "    <tr>\n",
       "      <th>2002-07-22</th>\n",
       "      <td>-0.032922</td>\n",
       "      <td>819.849976</td>\n",
       "      <td>2248060000</td>\n",
       "      <td>0.033476</td>\n",
       "      <td>0</td>\n",
       "      <td>30</td>\n",
       "      <td>7</td>\n",
       "      <td>0.050255</td>\n",
       "      <td>0.0</td>\n",
       "      <td>-0.022777</td>\n",
       "      <td>...</td>\n",
       "      <td>0.070023</td>\n",
       "      <td>0.003929</td>\n",
       "      <td>0.008871</td>\n",
       "      <td>0.001577</td>\n",
       "      <td>0.008849</td>\n",
       "      <td>-0.046537</td>\n",
       "      <td>-0.000229</td>\n",
       "      <td>-0.001066</td>\n",
       "      <td>-24.872814</td>\n",
       "      <td>20.786866</td>\n",
       "    </tr>\n",
       "    <tr>\n",
       "      <th>2002-07-23</th>\n",
       "      <td>-0.027017</td>\n",
       "      <td>797.700012</td>\n",
       "      <td>2441020000</td>\n",
       "      <td>0.027389</td>\n",
       "      <td>1</td>\n",
       "      <td>30</td>\n",
       "      <td>7</td>\n",
       "      <td>0.039642</td>\n",
       "      <td>0.0</td>\n",
       "      <td>-0.017183</td>\n",
       "      <td>...</td>\n",
       "      <td>0.062692</td>\n",
       "      <td>0.007462</td>\n",
       "      <td>0.008871</td>\n",
       "      <td>0.001577</td>\n",
       "      <td>0.008849</td>\n",
       "      <td>-0.046537</td>\n",
       "      <td>-0.000229</td>\n",
       "      <td>-0.001066</td>\n",
       "      <td>-27.915234</td>\n",
       "      <td>20.657899</td>\n",
       "    </tr>\n",
       "  </tbody>\n",
       "</table>\n",
       "<p>4 rows × 24 columns</p>\n",
       "</div>"
      ],
      "text/plain": [
       "            simple_daily_returns       Close      Volume  log_daily_returns  \\\n",
       "Date                                                                          \n",
       "2002-07-18             -0.026385  881.559998  1736300000           0.026739   \n",
       "2002-07-19             -0.038352  847.750000  2654100000           0.039107   \n",
       "2002-07-22             -0.032922  819.849976  2248060000           0.033476   \n",
       "2002-07-23             -0.027017  797.700012  2441020000           0.027389   \n",
       "\n",
       "            day-of-week  week-of-year  month-of-year  day_volatility_%  \\\n",
       "Date                                                                     \n",
       "2002-07-18            3            29              7          0.030888   \n",
       "2002-07-19            4            29              7          0.046896   \n",
       "2002-07-22            0            30              7          0.050255   \n",
       "2002-07-23            1            30              7          0.039642   \n",
       "\n",
       "            gold_returns  oil_returns  ...  VIX_returns  US_returns       GDP  \\\n",
       "Date                                   ...                                      \n",
       "2002-07-18           0.0    -0.005411  ...    -0.002273   -0.000765  0.008871   \n",
       "2002-07-19           0.0     0.021284  ...     0.048051    0.002408  0.008871   \n",
       "2002-07-22           0.0    -0.022777  ...     0.070023    0.003929  0.008871   \n",
       "2002-07-23           0.0    -0.017183  ...     0.062692    0.007462  0.008871   \n",
       "\n",
       "            CPILFESL       PCE   UMCSENT    INDPRO     IPMAN  MACD_Signal  \\\n",
       "Date                                                                        \n",
       "2002-07-18  0.001577  0.008849 -0.046537 -0.000229 -0.001066   -20.428083   \n",
       "2002-07-19  0.001577  0.008849 -0.046537 -0.000229 -0.001066   -22.343688   \n",
       "2002-07-22  0.001577  0.008849 -0.046537 -0.000229 -0.001066   -24.872814   \n",
       "2002-07-23  0.001577  0.008849 -0.046537 -0.000229 -0.001066   -27.915234   \n",
       "\n",
       "                  RSI  \n",
       "Date                   \n",
       "2002-07-18  24.627836  \n",
       "2002-07-19  21.351079  \n",
       "2002-07-22  20.786866  \n",
       "2002-07-23  20.657899  \n",
       "\n",
       "[4 rows x 24 columns]"
      ]
     },
     "execution_count": 13,
     "metadata": {},
     "output_type": "execute_result"
    }
   ],
   "source": [
    "X.head(4)"
   ]
  },
  {
   "cell_type": "code",
   "execution_count": 14,
   "id": "9da4558b",
   "metadata": {},
   "outputs": [],
   "source": [
    "# 70% train/test split\n",
    "split = int(len(X) * 0.7)\n",
    "Y=Y_real\n",
    "# We transform Y to a binary classification problem's values (0 y 1)\n",
    "from sklearn.preprocessing import LabelEncoder \n",
    "encoder = LabelEncoder() \n",
    "encoder.fit(Y) \n",
    "encoded_Y = encoder.transform(Y) \n",
    "# We transform encoded_Y into a dataframe in order to use .iloc and being able to make the train/test split\n",
    "Y = pd.DataFrame(encoded_Y, columns = ['Column_A'],index=Y.index) \n",
    "\n",
    "# Create train data set\n",
    "# We have to twist the dataset\n",
    "X_train, y_train = X[:split], Y[:split]\n",
    "# Test data after train split\n",
    "# PARA EVITAR CORRELACION ENTRE LAS SERIES PODEMOS TOMAR [SPLIT+3:] ie QUE PREDIGA 3 DIAS ADELANTE DEL TRAIN SET\n",
    "X_test, y_test = X[split:], Y[split:]\n",
    "\n",
    "\n",
    "# Scale the features MinMax for training and test datasets\n",
    "scaler = MinMaxScaler()\n",
    "scaled_X_train = scaler.fit_transform(X_train)\n",
    "scaled_X_test = scaler.transform(X_test)\n",
    "# We change from array to dataframe\n",
    "X_train=pd.DataFrame(scaled_X_train,columns=X.columns,index=X.iloc[:split].index)\n",
    "y_train=pd.DataFrame(y_train,columns=Y.columns,index=Y[:split].index)\n",
    "X_test=pd.DataFrame(scaled_X_test,columns=X.columns,index=X[split:].index)\n",
    "y_test=pd.DataFrame(y_test,columns=Y.columns,index=Y[split:].index)"
   ]
  },
  {
   "cell_type": "code",
   "execution_count": 15,
   "id": "4e41efb1",
   "metadata": {},
   "outputs": [],
   "source": [
    "runtimes=[]"
   ]
  },
  {
   "cell_type": "markdown",
   "id": "487791e9",
   "metadata": {},
   "source": [
    "# 3. Running Models"
   ]
  },
  {
   "cell_type": "markdown",
   "id": "e2ad2e10",
   "metadata": {},
   "source": [
    "# 1. Naive Bayes"
   ]
  },
  {
   "cell_type": "code",
   "execution_count": 45,
   "id": "67291249",
   "metadata": {},
   "outputs": [
    {
     "name": "stdout",
     "output_type": "stream",
     "text": [
      "Runtime: 0.003998756408691406\n",
      "score on test: 0.544\n",
      "score on train: 0.543\n"
     ]
    }
   ],
   "source": [
    "mnb = MultinomialNB()\n",
    "\n",
    "start_mnb = time.time()\n",
    "mnb.fit(X_train, y_train)\n",
    "end_mnb = time.time()\n",
    "mnb_runtime=end_mnb - start_mnb\n",
    "\n",
    "print('Runtime:',mnb_runtime)\n",
    "print(\"score on test: %.3f\"  %mnb.score(X_test, y_test))\n",
    "print(\"score on train: %.3f\" %mnb.score(X_train, y_train))"
   ]
  },
  {
   "cell_type": "code",
   "execution_count": 46,
   "id": "c7095a54",
   "metadata": {},
   "outputs": [],
   "source": [
    "runtimes.append(mnb_runtime)"
   ]
  },
  {
   "cell_type": "code",
   "execution_count": 47,
   "id": "2ce06795",
   "metadata": {},
   "outputs": [
    {
     "data": {
      "text/plain": [
       "[0.011967897415161133,\n",
       " 0.04339313507080078,\n",
       " 0.0029594898223876953,\n",
       " 0.2513594627380371,\n",
       " 0.003998756408691406]"
      ]
     },
     "execution_count": 47,
     "metadata": {},
     "output_type": "execute_result"
    }
   ],
   "source": [
    "runtimes"
   ]
  },
  {
   "cell_type": "code",
   "execution_count": 48,
   "id": "cc1424d9",
   "metadata": {},
   "outputs": [],
   "source": [
    "#coef=list(mnb.fit(X_train, y_train).coef_[0])\n",
    "#max_coef_index=list(np.argsort(coef)[::-1])\n",
    "#for i in max_coef_index:\n",
    "#    print(list(X_train.columns)[i]+' --> %.3f' %coef[i])"
   ]
  },
  {
   "cell_type": "markdown",
   "id": "57abcac5",
   "metadata": {},
   "source": [
    "# 2. Logistic Regression"
   ]
  },
  {
   "cell_type": "code",
   "execution_count": 49,
   "id": "e2d5c476",
   "metadata": {},
   "outputs": [
    {
     "name": "stdout",
     "output_type": "stream",
     "text": [
      "Runtime: 0.03789806365966797\n",
      "score on test: 0.516\n",
      "score on train: 0.560\n"
     ]
    }
   ],
   "source": [
    "lr=LogisticRegression(max_iter=1000)\n",
    "\n",
    "start_lr = time.time()\n",
    "lr.fit(X_train, y_train)\n",
    "end_lr = time.time()\n",
    "lr_runtime=end_lr - start_lr\n",
    "\n",
    "print('Runtime:',lr_runtime)\n",
    "print(\"score on test: %.3f\" % lr.score(X_test, y_test))\n",
    "print(\"score on train: %.3f\" % lr.score(X_train, y_train))"
   ]
  },
  {
   "cell_type": "code",
   "execution_count": 50,
   "id": "3da83684",
   "metadata": {},
   "outputs": [],
   "source": [
    "runtimes.append(lr_runtime)"
   ]
  },
  {
   "cell_type": "code",
   "execution_count": 51,
   "id": "cd12c4d2",
   "metadata": {},
   "outputs": [
    {
     "name": "stdout",
     "output_type": "stream",
     "text": [
      "GDP --> 0.695\n",
      "IPMAN --> 0.678\n",
      "PCE --> 0.472\n",
      "UMCSENT --> 0.470\n",
      "Volume --> 0.463\n",
      "log_daily_returns --> 0.456\n",
      "treasury_10y_returns --> 0.247\n",
      "month-of-year --> 0.185\n",
      "day_volatility_% --> 0.063\n",
      "US_returns --> -0.027\n",
      "day-of-week --> -0.081\n",
      "Close --> -0.129\n",
      "VIX_returns --> -0.138\n",
      "treasury_13w_returns --> -0.142\n",
      "nasdaq_returns --> -0.179\n",
      "week-of-year --> -0.197\n",
      "RSI --> -0.234\n",
      "gold_returns --> -0.234\n",
      "oil_returns --> -0.251\n",
      "dowJones_returns --> -0.381\n",
      "simple_daily_returns --> -0.446\n",
      "CPILFESL --> -0.461\n",
      "MACD_Signal --> -0.472\n",
      "INDPRO --> -0.899\n"
     ]
    }
   ],
   "source": [
    "coef=list(lr.fit(X_train, y_train).coef_[0])\n",
    "max_coef_index=list(np.argsort(coef)[::-1])\n",
    "for i in max_coef_index:\n",
    "    print(list(X_train.columns)[i]+' --> %.3f' %coef[i])"
   ]
  },
  {
   "cell_type": "markdown",
   "id": "576f55b3",
   "metadata": {},
   "source": [
    "# 3. K-nearest Neighbours"
   ]
  },
  {
   "cell_type": "code",
   "execution_count": 52,
   "id": "22bbae46",
   "metadata": {},
   "outputs": [
    {
     "name": "stdout",
     "output_type": "stream",
     "text": [
      "Runtime: 0.004987955093383789\n",
      "score on test: 0.492\n",
      "score on train: 0.698\n"
     ]
    }
   ],
   "source": [
    "knn = KNeighborsClassifier(algorithm = 'brute', n_jobs=-1)\n",
    "\n",
    "start_knn = time.time()\n",
    "knn.fit(X_train, y_train)\n",
    "end_knn = time.time()\n",
    "knn_runtime=end_knn - start_knn\n",
    "\n",
    "print('Runtime:',knn_runtime)\n",
    "print(\"score on test: %.3f\" % knn.score(X_test, y_test))\n",
    "print(\"score on train: %.3f\" % knn.score(X_train, y_train))"
   ]
  },
  {
   "cell_type": "code",
   "execution_count": 53,
   "id": "1bdeb617",
   "metadata": {},
   "outputs": [],
   "source": [
    "runtimes.append(knn_runtime)"
   ]
  },
  {
   "cell_type": "code",
   "execution_count": null,
   "id": "0bc07823",
   "metadata": {},
   "outputs": [],
   "source": []
  },
  {
   "cell_type": "markdown",
   "id": "06e14d67",
   "metadata": {},
   "source": [
    "# 4. Support Vector Machine (SVM)"
   ]
  },
  {
   "cell_type": "code",
   "execution_count": 54,
   "id": "1d39e6c5",
   "metadata": {},
   "outputs": [
    {
     "name": "stdout",
     "output_type": "stream",
     "text": [
      "Runtime: 0.25830888748168945\n",
      "score on test: 0.545\n",
      "score on train: 0.545\n"
     ]
    }
   ],
   "source": [
    "svm=LinearSVC(C=100)\n",
    "\n",
    "start_svm = time.time()\n",
    "svm.fit(X_train, y_train)\n",
    "end_svm = time.time()\n",
    "svm_runtime=end_svm - start_svm\n",
    "\n",
    "print('Runtime:',svm_runtime)\n",
    "print(\"score on test: %.3f\" % svm.score(X_test, y_test))\n",
    "print(\"score on train: %.3f\" % svm.score(X_train, y_train))"
   ]
  },
  {
   "cell_type": "code",
   "execution_count": 55,
   "id": "979722ab",
   "metadata": {},
   "outputs": [],
   "source": [
    "runtimes.append(svm_runtime)"
   ]
  },
  {
   "cell_type": "code",
   "execution_count": 56,
   "id": "2d513e11",
   "metadata": {},
   "outputs": [
    {
     "name": "stdout",
     "output_type": "stream",
     "text": [
      "log_daily_returns --> 1.030\n",
      "IPMAN --> 0.399\n",
      "month-of-year --> 0.305\n",
      "treasury_13w_returns --> 0.197\n",
      "Volume --> 0.197\n",
      "GDP --> 0.174\n",
      "VIX_returns --> 0.145\n",
      "treasury_10y_returns --> 0.141\n",
      "UMCSENT --> 0.134\n",
      "PCE --> 0.124\n",
      "Close --> 0.040\n",
      "day-of-week --> -0.083\n",
      "nasdaq_returns --> -0.084\n",
      "RSI --> -0.099\n",
      "simple_daily_returns --> -0.110\n",
      "dowJones_returns --> -0.129\n",
      "day_volatility_% --> -0.156\n",
      "week-of-year --> -0.173\n",
      "oil_returns --> -0.206\n",
      "MACD_Signal --> -0.208\n",
      "US_returns --> -0.229\n",
      "INDPRO --> -0.404\n",
      "CPILFESL --> -0.408\n",
      "gold_returns --> -0.426\n"
     ]
    }
   ],
   "source": [
    "coef=list(svm.fit(X_train, y_train).coef_[0])\n",
    "max_coef_index=list(np.argsort(coef)[::-1])\n",
    "for i in max_coef_index:\n",
    "    print(list(X_train.columns)[i]+' --> %.3f' %coef[i])"
   ]
  },
  {
   "cell_type": "code",
   "execution_count": null,
   "id": "a0f20387",
   "metadata": {},
   "outputs": [],
   "source": []
  },
  {
   "cell_type": "markdown",
   "id": "c73349e4",
   "metadata": {},
   "source": [
    "# 5. Decision Tree Classifier"
   ]
  },
  {
   "cell_type": "code",
   "execution_count": 57,
   "id": "d84e3343",
   "metadata": {},
   "outputs": [
    {
     "name": "stdout",
     "output_type": "stream",
     "text": [
      "Runtime: 0.030919551849365234\n",
      "score on test: 0.511\n",
      "score on train: 0.601\n"
     ]
    }
   ],
   "source": [
    "clf = DecisionTreeClassifier(max_depth=5)\n",
    "\n",
    "start_clf = time.time()\n",
    "clf.fit(X_train, y_train)\n",
    "end_clf = time.time()\n",
    "clf_runtime=end_clf - start_clf\n",
    "\n",
    "print('Runtime:',clf_runtime)\n",
    "print(\"score on test: %.3f\"  % clf.score(X_test, y_test))\n",
    "print(\"score on train: %.3f\" % clf.score(X_train, y_train))"
   ]
  },
  {
   "cell_type": "code",
   "execution_count": 58,
   "id": "69b11753",
   "metadata": {},
   "outputs": [],
   "source": [
    "runtimes.append(clf_runtime)"
   ]
  },
  {
   "cell_type": "code",
   "execution_count": 59,
   "id": "3763f8d6",
   "metadata": {},
   "outputs": [
    {
     "name": "stdout",
     "output_type": "stream",
     "text": [
      "treasury_10y_returns --> 0.184\n",
      "VIX_returns --> 0.125\n",
      "nasdaq_returns --> 0.122\n",
      "MACD_Signal --> 0.097\n",
      "Volume --> 0.092\n",
      "treasury_13w_returns --> 0.084\n",
      "Close --> 0.083\n",
      "RSI --> 0.063\n",
      "day_volatility_% --> 0.054\n",
      "oil_returns --> 0.043\n",
      "GDP --> 0.033\n",
      "log_daily_returns --> 0.019\n",
      "US_returns --> 0.000\n",
      "dowJones_returns --> 0.000\n",
      "CPILFESL --> 0.000\n",
      "PCE --> 0.000\n",
      "UMCSENT --> 0.000\n",
      "gold_returns --> 0.000\n",
      "month-of-year --> 0.000\n",
      "week-of-year --> 0.000\n",
      "day-of-week --> 0.000\n",
      "INDPRO --> 0.000\n",
      "IPMAN --> 0.000\n",
      "simple_daily_returns --> 0.000\n"
     ]
    }
   ],
   "source": [
    "coef=list(clf.fit(X_train, y_train).feature_importances_)\n",
    "max_coef_index=list(np.argsort(coef)[::-1])\n",
    "for i in max_coef_index:\n",
    "    print(list(X_train.columns)[i]+' --> %.3f' %coef[i])"
   ]
  },
  {
   "cell_type": "markdown",
   "id": "9efb2b4e",
   "metadata": {},
   "source": [
    "# 6. Bagging Decision Tree (Ensemble Learning I)"
   ]
  },
  {
   "cell_type": "code",
   "execution_count": 60,
   "id": "9f6c089b",
   "metadata": {},
   "outputs": [
    {
     "name": "stdout",
     "output_type": "stream",
     "text": [
      "Runtime: 0.16655492782592773\n",
      "score on test: 0.476\n",
      "score on train: 0.647\n"
     ]
    }
   ],
   "source": [
    "# max_samples: maximum size 0.5=50% of each sample taken from the full dataset\n",
    "# max_features: maximum of features 1=100% taken here all 10K \n",
    "# n_estimators: number of decision trees \n",
    "bg=BaggingClassifier(DecisionTreeClassifier(max_depth=5),max_samples=0.50,max_features=0.75,n_estimators=20)\n",
    "\n",
    "start_bg = time.time()\n",
    "bg.fit(X_train, y_train)\n",
    "end_bg = time.time()\n",
    "bg_runtime=end_bg - start_bg\n",
    "\n",
    "print('Runtime:',bg_runtime)\n",
    "print(\"score on test: %.3f\" % bg.score(X_test, y_test))\n",
    "print(\"score on train: %.3f\" % bg.score(X_train, y_train))"
   ]
  },
  {
   "cell_type": "code",
   "execution_count": 61,
   "id": "92afcda8",
   "metadata": {},
   "outputs": [],
   "source": [
    "runtimes.append(bg_runtime)"
   ]
  },
  {
   "cell_type": "code",
   "execution_count": null,
   "id": "fb810350",
   "metadata": {},
   "outputs": [],
   "source": []
  },
  {
   "cell_type": "markdown",
   "id": "d3478e87",
   "metadata": {},
   "source": [
    "# 7. Boosting Decision Tree (Ensemble Learning II)"
   ]
  },
  {
   "cell_type": "code",
   "execution_count": 62,
   "id": "e921001b",
   "metadata": {},
   "outputs": [
    {
     "name": "stdout",
     "output_type": "stream",
     "text": [
      "Runtime: 0.33513641357421875\n",
      "score on test: 0.520\n",
      "score on train: 0.900\n"
     ]
    }
   ],
   "source": [
    "adb = AdaBoostClassifier(DecisionTreeClassifier(min_samples_split=10,max_depth=7),n_estimators=10,learning_rate=0.6)\n",
    "\n",
    "start_adb = time.time()\n",
    "adb.fit(X_train, y_train)\n",
    "end_adb = time.time()\n",
    "adb_runtime=end_adb - start_adb\n",
    "\n",
    "print('Runtime:',adb_runtime)\n",
    "print(\"score on test: %.3f\" % adb.score(X_test, y_test))\n",
    "print(\"score on train: %.3f\" % adb.score(X_train, y_train))"
   ]
  },
  {
   "cell_type": "code",
   "execution_count": 63,
   "id": "19468289",
   "metadata": {},
   "outputs": [
    {
     "name": "stdout",
     "output_type": "stream",
     "text": [
      "oil_returns --> 0.085\n",
      "treasury_10y_returns --> 0.067\n",
      "MACD_Signal --> 0.063\n",
      "RSI --> 0.062\n",
      "VIX_returns --> 0.060\n",
      "Close --> 0.059\n",
      "day_volatility_% --> 0.058\n",
      "US_returns --> 0.058\n",
      "dowJones_returns --> 0.058\n",
      "gold_returns --> 0.056\n",
      "Volume --> 0.055\n",
      "nasdaq_returns --> 0.052\n",
      "treasury_13w_returns --> 0.047\n",
      "CPILFESL --> 0.042\n",
      "IPMAN --> 0.033\n",
      "log_daily_returns --> 0.025\n",
      "week-of-year --> 0.020\n",
      "PCE --> 0.019\n",
      "GDP --> 0.017\n",
      "simple_daily_returns --> 0.015\n",
      "day-of-week --> 0.015\n",
      "INDPRO --> 0.015\n",
      "UMCSENT --> 0.012\n",
      "month-of-year --> 0.007\n"
     ]
    }
   ],
   "source": [
    "coef=list(adb.fit(X_train, y_train).feature_importances_)\n",
    "max_coef_index=list(np.argsort(coef)[::-1])\n",
    "for i in max_coef_index:\n",
    "    print(list(X_train.columns)[i]+' --> %.3f' %coef[i])"
   ]
  },
  {
   "cell_type": "code",
   "execution_count": null,
   "id": "1905f106",
   "metadata": {},
   "outputs": [],
   "source": []
  },
  {
   "cell_type": "markdown",
   "id": "4e48343e",
   "metadata": {},
   "source": [
    "# 8. Random Forest (Ensemble Learning III)"
   ]
  },
  {
   "cell_type": "code",
   "execution_count": 64,
   "id": "bae48ee8",
   "metadata": {},
   "outputs": [
    {
     "name": "stdout",
     "output_type": "stream",
     "text": [
      "Runtime: 0.16752123832702637\n",
      "score on test: 0.468\n",
      "score on train: 0.845\n"
     ]
    }
   ],
   "source": [
    "# n_estimators = number of decision trees\n",
    "rf = RandomForestClassifier(n_estimators=30, max_depth=9)\n",
    "\n",
    "start_rf = time.time()\n",
    "rf.fit(X_train, y_train)\n",
    "end_rf = time.time()\n",
    "rf_runtime=end_rf - start_rf\n",
    "\n",
    "print('Runtime:',rf_runtime)\n",
    "print(\"score on test: %.3f\" % rf.score(X_test, y_test))\n",
    "print(\"score on train: %.3f\" % rf.score(X_train, y_train))"
   ]
  },
  {
   "cell_type": "code",
   "execution_count": 65,
   "id": "b760cbd4",
   "metadata": {},
   "outputs": [],
   "source": [
    "runtimes.append(rf_runtime)"
   ]
  },
  {
   "cell_type": "code",
   "execution_count": 66,
   "id": "24e3f087",
   "metadata": {},
   "outputs": [
    {
     "name": "stdout",
     "output_type": "stream",
     "text": [
      "Close --> 0.061\n",
      "VIX_returns --> 0.056\n",
      "oil_returns --> 0.056\n",
      "treasury_10y_returns --> 0.055\n",
      "gold_returns --> 0.053\n",
      "US_returns --> 0.052\n",
      "day_volatility_% --> 0.052\n",
      "nasdaq_returns --> 0.051\n",
      "RSI --> 0.051\n",
      "MACD_Signal --> 0.047\n",
      "Volume --> 0.043\n",
      "log_daily_returns --> 0.043\n",
      "dowJones_returns --> 0.043\n",
      "treasury_13w_returns --> 0.042\n",
      "simple_daily_returns --> 0.040\n",
      "INDPRO --> 0.039\n",
      "week-of-year --> 0.034\n",
      "PCE --> 0.033\n",
      "CPILFESL --> 0.032\n",
      "GDP --> 0.031\n",
      "UMCSENT --> 0.030\n",
      "IPMAN --> 0.027\n",
      "month-of-year --> 0.016\n",
      "day-of-week --> 0.013\n"
     ]
    }
   ],
   "source": [
    "coef=list(rf.fit(X_train, y_train).feature_importances_)\n",
    "max_coef_index=list(np.argsort(coef)[::-1])\n",
    "for i in max_coef_index:\n",
    "    print(list(X_train.columns)[i]+' --> %.3f' %coef[i])"
   ]
  },
  {
   "cell_type": "markdown",
   "id": "d7aab540",
   "metadata": {},
   "source": [
    "# 10. Voting Classifier (Ensemble Learning IV)"
   ]
  },
  {
   "cell_type": "code",
   "execution_count": 164,
   "id": "66628eb2",
   "metadata": {},
   "outputs": [
    {
     "name": "stdout",
     "output_type": "stream",
     "text": [
      "Runtime: 0.29325222969055176\n",
      "score on test: 0.5096989966555184\n",
      "score on train: 0.7217441193344808\n"
     ]
    }
   ],
   "source": [
    "\n",
    "# 1) naive bias = mnb\n",
    "# 2) logistic regression =lr\n",
    "# 3) random forest =rf\n",
    "# 4) support vector machine = svm\n",
    "evc=VotingClassifier(estimators=[('clf',clf),('lr',lr),('rf',rf)],voting='hard')\n",
    "\n",
    "start_evc = time.time()\n",
    "evc.fit(X_train, y_train)\n",
    "end_evc = time.time()\n",
    "evc_runtime=end_evc - start_evc\n",
    "\n",
    "print('Runtime:',evc_runtime)\n",
    "print(\"score on test: \" + str(evc.score(X_test, y_test)))\n",
    "print(\"score on train: \"+ str(evc.score(X_train, y_train)))"
   ]
  },
  {
   "cell_type": "code",
   "execution_count": null,
   "id": "fedd11bb",
   "metadata": {},
   "outputs": [],
   "source": []
  },
  {
   "cell_type": "code",
   "execution_count": null,
   "id": "54456b72",
   "metadata": {},
   "outputs": [],
   "source": []
  },
  {
   "cell_type": "markdown",
   "id": "691fa555",
   "metadata": {},
   "source": [
    "# 11. Redes neuronales y Deep Learning"
   ]
  },
  {
   "cell_type": "code",
   "execution_count": null,
   "id": "9a65cfdc",
   "metadata": {},
   "outputs": [],
   "source": []
  },
  {
   "cell_type": "code",
   "execution_count": 67,
   "id": "799a148d",
   "metadata": {},
   "outputs": [],
   "source": [
    "# MLP: mirar https://machinelearningmastery.com/binary-classification-tutorial-with-the-keras-deep-learning-library/ + https://scikit-learn.org/stable/modules/neural_networks_supervised.html\n",
    "# define model\n",
    "\n",
    "def model_MLP(optimizer,activation,loss,metrics):\n",
    "    model = Sequential()\n",
    "\n",
    "    model.add(Dense(64,  activation = activation))\n",
    "\n",
    "    model.add(Dense(1, activation='sigmoid'))\n",
    "\n",
    "    model.compile(optimizer=optimizer, loss=loss, metrics=metrics)\n",
    "\n",
    "    return model\n",
    "\n",
    "MLP=model_MLP(optimizer='adam',activation='relu',loss='binary_crossentropy',metrics=['binary_accuracy'])"
   ]
  },
  {
   "cell_type": "code",
   "execution_count": 68,
   "id": "7b7b956f",
   "metadata": {},
   "outputs": [
    {
     "name": "stdout",
     "output_type": "stream",
     "text": [
      "Runtime: 243.41211318969727\n"
     ]
    }
   ],
   "source": [
    "start_MLP = time.time()\n",
    "history_MLP=MLP.fit(X_train, y_train, batch_size=1, epochs=100, verbose=0, validation_split=0.33, shuffle=False)\n",
    "end_MLP = time.time()\n",
    "MLP_runtime=end_MLP - start_MLP\n",
    "\n",
    "print('Runtime:',MLP_runtime)"
   ]
  },
  {
   "cell_type": "code",
   "execution_count": 69,
   "id": "02f43e4d",
   "metadata": {},
   "outputs": [],
   "source": [
    "runtimes.append(MLP_runtime)"
   ]
  },
  {
   "cell_type": "code",
   "execution_count": 70,
   "id": "e28cf5c2",
   "metadata": {},
   "outputs": [
    {
     "name": "stdout",
     "output_type": "stream",
     "text": [
      "Model: \"sequential\"\n",
      "_________________________________________________________________\n",
      " Layer (type)                Output Shape              Param #   \n",
      "=================================================================\n",
      " dense (Dense)               (1, 64)                   1600      \n",
      "                                                                 \n",
      " dense_1 (Dense)             (1, 1)                    65        \n",
      "                                                                 \n",
      "=================================================================\n",
      "Total params: 1,665\n",
      "Trainable params: 1,665\n",
      "Non-trainable params: 0\n",
      "_________________________________________________________________\n",
      "None\n"
     ]
    }
   ],
   "source": [
    "print(MLP.summary())"
   ]
  },
  {
   "cell_type": "code",
   "execution_count": 71,
   "id": "f3097eb3",
   "metadata": {},
   "outputs": [
    {
     "data": {
      "image/png": "[encoded data removed]",
      "text/plain": [
       "<Figure size 1440x720 with 2 Axes>"
      ]
     },
     "metadata": {},
     "output_type": "display_data"
    }
   ],
   "source": [
    "# MLP\n",
    "fig, axs = plt.subplots(1,2)\n",
    "fig.suptitle('MLP model training performance', fontsize=20)\n",
    "axs[0].plot(history_MLP.history['binary_accuracy'])\n",
    "axs[0].plot(history_MLP.history['val_binary_accuracy'])\n",
    "axs[0].set_title('Model accuracy', fontsize=15)\n",
    "axs[0].set_ylabel('binary_accuracy')\n",
    "axs[0].set_xlabel('epoch')\n",
    "axs[0].legend(['train', 'validation'], loc='upper left')\n",
    "axs[1].plot(history_MLP.history['loss'])\n",
    "axs[1].plot(history_MLP.history['val_loss'])\n",
    "axs[1].set_title('Model loss', fontsize=15)\n",
    "axs[1].set_ylabel('loss')\n",
    "axs[1].set_xlabel('epoch')\n",
    "axs[1].legend(['train', 'validation'], loc='upper left')\n",
    "plt.show()"
   ]
  },
  {
   "cell_type": "code",
   "execution_count": 72,
   "id": "89851d5e",
   "metadata": {},
   "outputs": [
    {
     "name": "stdout",
     "output_type": "stream",
     "text": [
      "109/109 [==============================] - 0s 1ms/step - loss: 0.7315 - binary_accuracy: 0.5709\n",
      "MLP: [binary_crossentropy, binary_accuracy] = [0.7314605712890625, 0.5708548426628113]\n"
     ]
    }
   ],
   "source": [
    "# MLP\n",
    "results_MLP=MLP.evaluate(X_train, y_train)\n",
    "print('MLP: [binary_crossentropy, binary_accuracy] =', results_MLP)"
   ]
  },
  {
   "cell_type": "code",
   "execution_count": 73,
   "id": "c2e4f635",
   "metadata": {},
   "outputs": [
    {
     "name": "stdout",
     "output_type": "stream",
     "text": [
      "47/47 [==============================] - 0s 1ms/step - loss: 4.5458 - binary_accuracy: 0.4676\n",
      "MLP: [binary_crossentropy, binary_accuracy] = [4.545845985412598, 0.46755853295326233]\n"
     ]
    }
   ],
   "source": [
    "# MLP\n",
    "results_MLP=MLP.evaluate(X_test, y_test)\n",
    "print('MLP: [binary_crossentropy, binary_accuracy] =', results_MLP)"
   ]
  },
  {
   "cell_type": "code",
   "execution_count": null,
   "id": "1a31df46",
   "metadata": {},
   "outputs": [],
   "source": []
  },
  {
   "cell_type": "code",
   "execution_count": null,
   "id": "78a6a803",
   "metadata": {},
   "outputs": [],
   "source": []
  },
  {
   "cell_type": "markdown",
   "id": "292d374d",
   "metadata": {},
   "source": [
    "# 12. LSTM"
   ]
  },
  {
   "cell_type": "code",
   "execution_count": 74,
   "id": "01741971",
   "metadata": {},
   "outputs": [],
   "source": [
    "# Reshaping the Data for LSTM\n",
    "# reshaping into 3D Array\n",
    "X_train_LSTM=np.array(scaled_X_train).reshape(len(scaled_X_train),1,len(list(X.keys()))) # len(scaled_train_data) samples; 1 timesteps per sample; 9 features per timestep or 1 samples; len(scaled_train_data) timesteps; 9 features per timestep?\n",
    "X_test_LSTM=np.array(scaled_X_test).reshape(len(scaled_X_test),1,len(list(X.keys())))"
   ]
  },
  {
   "cell_type": "code",
   "execution_count": null,
   "id": "ebed281e",
   "metadata": {},
   "outputs": [],
   "source": []
  },
  {
   "cell_type": "code",
   "execution_count": 75,
   "id": "d2cdcbe3",
   "metadata": {},
   "outputs": [],
   "source": [
    "def model_LSTM_(optimizer,activation,loss,metrics):\n",
    "    model = Sequential()\n",
    "\n",
    "    model.add(LSTM(units=256, input_shape = (X_train_LSTM.shape[1],X_train_LSTM.shape[2]), return_sequences=True)) \n",
    "    model.add(Dropout(0.4, seed=seed_value))\n",
    "\n",
    "    model.add(LSTM(units=256, return_sequences=True))\n",
    "    model.add(Dropout(0.4, seed=seed_value))\n",
    "\n",
    "    model.add(LSTM(units=64, return_sequences=False))\n",
    "    model.add(Dropout(0.4, seed=seed_value))\n",
    "\n",
    "    model.add(Dense(64,  activation = activation))\n",
    "\n",
    "    model.add(Dense(1, activation='sigmoid'))\n",
    "\n",
    "    model.compile(optimizer=optimizer, loss=loss, metrics=metrics)\n",
    "\n",
    "    return model\n",
    "\n",
    "# Define the Model\n",
    "model_LSTM=model_LSTM_(optimizer='adam',activation='relu',loss='binary_crossentropy',metrics=['binary_accuracy'])"
   ]
  },
  {
   "cell_type": "code",
   "execution_count": 76,
   "id": "7dcafdc1",
   "metadata": {},
   "outputs": [
    {
     "name": "stdout",
     "output_type": "stream",
     "text": [
      "Runtime: 30.874266386032104\n"
     ]
    }
   ],
   "source": [
    "start_LSTM = time.time()\n",
    "history_LSTM=model_LSTM.fit(X_train_LSTM, y_train, batch_size=len(X_train_LSTM), epochs=200, verbose=0, validation_split=0.33, shuffle=False)\n",
    "end_LSTM = time.time()\n",
    "LSTM_runtime=end_LSTM - start_LSTM\n",
    "\n",
    "print('Runtime:',LSTM_runtime)"
   ]
  },
  {
   "cell_type": "code",
   "execution_count": 77,
   "id": "73d5cb15",
   "metadata": {},
   "outputs": [],
   "source": [
    "runtimes.append(LSTM_runtime)"
   ]
  },
  {
   "cell_type": "code",
   "execution_count": 78,
   "id": "26b3e3dc",
   "metadata": {},
   "outputs": [
    {
     "name": "stdout",
     "output_type": "stream",
     "text": [
      "Model: \"sequential_1\"\n",
      "_________________________________________________________________\n",
      " Layer (type)                Output Shape              Param #   \n",
      "=================================================================\n",
      " lstm (LSTM)                 (None, 1, 256)            287744    \n",
      "                                                                 \n",
      " dropout (Dropout)           (None, 1, 256)            0         \n",
      "                                                                 \n",
      " lstm_1 (LSTM)               (None, 1, 256)            525312    \n",
      "                                                                 \n",
      " dropout_1 (Dropout)         (None, 1, 256)            0         \n",
      "                                                                 \n",
      " lstm_2 (LSTM)               (None, 64)                82176     \n",
      "                                                                 \n",
      " dropout_2 (Dropout)         (None, 64)                0         \n",
      "                                                                 \n",
      " dense_2 (Dense)             (None, 64)                4160      \n",
      "                                                                 \n",
      " dense_3 (Dense)             (None, 1)                 65        \n",
      "                                                                 \n",
      "=================================================================\n",
      "Total params: 899,457\n",
      "Trainable params: 899,457\n",
      "Non-trainable params: 0\n",
      "_________________________________________________________________\n",
      "None\n"
     ]
    }
   ],
   "source": [
    "print(model_LSTM.summary())"
   ]
  },
  {
   "cell_type": "code",
   "execution_count": 79,
   "id": "38abb83e",
   "metadata": {},
   "outputs": [
    {
     "data": {
      "image/png": "[encoded data removed]",
      "text/plain": [
       "<Figure size 1440x720 with 2 Axes>"
      ]
     },
     "metadata": {},
     "output_type": "display_data"
    }
   ],
   "source": [
    "# LSTM\n",
    "fig, axs = plt.subplots(1,2)\n",
    "fig.suptitle('LSTM model training performance', fontsize=20)\n",
    "axs[0].plot(history_LSTM.history['binary_accuracy'])\n",
    "axs[0].plot(history_LSTM.history['val_binary_accuracy'])\n",
    "axs[0].set_title('Model accuracy', fontsize=15)\n",
    "axs[0].set_ylabel('binary_accuracy')\n",
    "axs[0].set_xlabel('epoch')\n",
    "axs[0].legend(['train', 'validation'], loc='upper left')\n",
    "axs[1].plot(history_LSTM.history['loss'])\n",
    "axs[1].plot(history_LSTM.history['val_loss'])\n",
    "axs[1].set_title('Model loss', fontsize=15)\n",
    "axs[1].set_ylabel('loss')\n",
    "axs[1].set_xlabel('epoch')\n",
    "axs[1].legend(['train', 'validation'], loc='upper left')\n",
    "plt.show()"
   ]
  },
  {
   "cell_type": "code",
   "execution_count": 80,
   "id": "3e3e99b0",
   "metadata": {},
   "outputs": [
    {
     "name": "stdout",
     "output_type": "stream",
     "text": [
      "109/109 [==============================] - 0s 4ms/step - loss: 0.6842 - binary_accuracy: 0.5620\n",
      "LSTM: [binary_crossentropy, binary_accuracy] = [0.6842123866081238, 0.5619621276855469]\n"
     ]
    }
   ],
   "source": [
    "# LSTM\n",
    "results_LSTM=model_LSTM.evaluate(X_train_LSTM, y_train)\n",
    "print('LSTM: [binary_crossentropy, binary_accuracy] =', results_LSTM)"
   ]
  },
  {
   "cell_type": "code",
   "execution_count": 81,
   "id": "ae2a2a6e",
   "metadata": {},
   "outputs": [
    {
     "name": "stdout",
     "output_type": "stream",
     "text": [
      "47/47 [==============================] - 0s 4ms/step - loss: 0.7303 - binary_accuracy: 0.5144\n",
      "LSTM: [binary_crossentropy, binary_accuracy] = [0.7303009629249573, 0.5143812894821167]\n"
     ]
    }
   ],
   "source": [
    "# LSTM\n",
    "results_LSTM=model_LSTM.evaluate(X_test_LSTM, y_test)\n",
    "print('LSTM: [binary_crossentropy, binary_accuracy] =', results_LSTM)"
   ]
  },
  {
   "cell_type": "code",
   "execution_count": 159,
   "id": "e77b2484",
   "metadata": {},
   "outputs": [
    {
     "name": "stdout",
     "output_type": "stream",
     "text": [
      "Strategy Performance: 1.75\n",
      "Hold and Buy Performance: 2.496\n",
      "Strategy Maximun Drawdown: 0.166\n",
      "Hold and Buy Drawdown: 0.424\n"
     ]
    }
   ],
   "source": [
    "y_predict_array_MLP = MLP.predict(X_test_LSTM)\n",
    "\n",
    "y_predict_array_MLP_list = y_predict_array_MLP.tolist()\n",
    "\n",
    "y_predict_array_MLP_list = [item for sublist in y_predict_array_MLP_list for item in sublist]\n",
    "\n",
    "y_predict_array_MLP_list = [item for sublist in y_predict_array_MLP_list for item in sublist]\n",
    "\n",
    "y_predict_array_MLP_list_binary=[]\n",
    "\n",
    "threshold = 0.25\n",
    "for i in y_predict_array_MLP_list:\n",
    "    #print(i)\n",
    "    if i>threshold:\n",
    "        y_predict_array_MLP_list_binary.append(1)\n",
    "    else:\n",
    "        y_predict_array_MLP_list_binary.append(0)\n",
    "        \n",
    "result = performance_2_class.performance_model(X_test,y_test,y_predict_array_MLP_list_binary,returns_real)    "
   ]
  },
  {
   "cell_type": "code",
   "execution_count": 160,
   "id": "227aa80d",
   "metadata": {},
   "outputs": [
    {
     "name": "stdout",
     "output_type": "stream",
     "text": [
      "Strategy Performance: 1.662\n",
      "Hold and Buy Performance: 2.496\n",
      "Strategy Maximun Drawdown: 0.224\n",
      "Hold and Buy Drawdown: 0.424\n"
     ]
    }
   ],
   "source": [
    "y_predict_array_LSTM = model_LSTM.predict(X_test_LSTM)\n",
    "\n",
    "y_predict_array_LSTM_list=[]\n",
    "y_predict_array_LSTM.tolist()\n",
    "y_predict_array_LSTM_list = [item for sublist in y_predict_array_LSTM.tolist() for item in sublist]\n",
    "\n",
    "y_predict_array_LSTM_list_binary=[]\n",
    "\n",
    "threshold = 0.35\n",
    "for i in y_predict_array_LSTM_list:\n",
    "    if i>threshold:\n",
    "        y_predict_array_LSTM_list_binary.append(1)\n",
    "    else:\n",
    "        y_predict_array_LSTM_list_binary.append(0)\n",
    "        \n",
    "result = performance_2_class.performance_model(X_test,y_test,y_predict_array_LSTM_list_binary,returns_real)    "
   ]
  },
  {
   "cell_type": "code",
   "execution_count": 89,
   "id": "595dfdd6",
   "metadata": {},
   "outputs": [
    {
     "name": "stdout",
     "output_type": "stream",
     "text": [
      "Strategy Performance: 1.173\n",
      "Hold and Buy Performance: 2.496\n",
      "Strategy Maximun Drawdown: 0.228\n",
      "Hold and Buy Drawdown: 0.424\n"
     ]
    }
   ],
   "source": [
    "result = performance_2_class.performance_model(X_test,y_test,mnb.predict(X_test),returns_real)"
   ]
  },
  {
   "cell_type": "code",
   "execution_count": 90,
   "id": "5d1ae3f1",
   "metadata": {},
   "outputs": [
    {
     "name": "stdout",
     "output_type": "stream",
     "text": [
      "Strategy Performance: 2.029\n",
      "Hold and Buy Performance: 2.496\n",
      "Strategy Maximun Drawdown: 0.221\n",
      "Hold and Buy Drawdown: 0.424\n"
     ]
    }
   ],
   "source": [
    "result = performance_2_class.performance_model(X_test,y_test,lr.predict(X_test),returns_real)"
   ]
  },
  {
   "cell_type": "code",
   "execution_count": 91,
   "id": "74b7939e",
   "metadata": {},
   "outputs": [
    {
     "name": "stdout",
     "output_type": "stream",
     "text": [
      "Strategy Performance: 0.858\n",
      "Hold and Buy Performance: 2.496\n",
      "Strategy Maximun Drawdown: 0.355\n",
      "Hold and Buy Drawdown: 0.424\n"
     ]
    }
   ],
   "source": [
    "result = performance_2_class.performance_model(X_test,y_test,knn.predict(X_test),returns_real)"
   ]
  },
  {
   "cell_type": "code",
   "execution_count": 92,
   "id": "c4d6c837",
   "metadata": {},
   "outputs": [
    {
     "name": "stdout",
     "output_type": "stream",
     "text": [
      "Strategy Performance: 0.822\n",
      "Hold and Buy Performance: 2.496\n",
      "Strategy Maximun Drawdown: 0.291\n",
      "Hold and Buy Drawdown: 0.424\n"
     ]
    }
   ],
   "source": [
    "result = performance_2_class.performance_model(X_test,y_test,svm.predict(X_test),returns_real)"
   ]
  },
  {
   "cell_type": "code",
   "execution_count": 93,
   "id": "0e99b122",
   "metadata": {},
   "outputs": [
    {
     "name": "stdout",
     "output_type": "stream",
     "text": [
      "Strategy Performance: 1.972\n",
      "Hold and Buy Performance: 2.496\n",
      "Strategy Maximun Drawdown: 0.24\n",
      "Hold and Buy Drawdown: 0.424\n"
     ]
    }
   ],
   "source": [
    "result = performance_2_class.performance_model(X_test,y_test,clf.predict(X_test),returns_real)"
   ]
  },
  {
   "cell_type": "code",
   "execution_count": 94,
   "id": "b052d990",
   "metadata": {},
   "outputs": [
    {
     "name": "stdout",
     "output_type": "stream",
     "text": [
      "Strategy Performance: 1.24\n",
      "Hold and Buy Performance: 2.496\n",
      "Strategy Maximun Drawdown: 0.234\n",
      "Hold and Buy Drawdown: 0.424\n"
     ]
    }
   ],
   "source": [
    "result = performance_2_class.performance_model(X_test,y_test,bg.predict(X_test),returns_real)"
   ]
  },
  {
   "cell_type": "code",
   "execution_count": 95,
   "id": "f31d4c12",
   "metadata": {},
   "outputs": [
    {
     "name": "stdout",
     "output_type": "stream",
     "text": [
      "Strategy Performance: 1.407\n",
      "Hold and Buy Performance: 2.496\n",
      "Strategy Maximun Drawdown: 0.202\n",
      "Hold and Buy Drawdown: 0.424\n"
     ]
    }
   ],
   "source": [
    "result = performance_2_class.performance_model(X_test,y_test,adb.predict(X_test),returns_real)"
   ]
  },
  {
   "cell_type": "code",
   "execution_count": 96,
   "id": "9e5970e7",
   "metadata": {},
   "outputs": [
    {
     "name": "stdout",
     "output_type": "stream",
     "text": [
      "Strategy Performance: 1.549\n",
      "Hold and Buy Performance: 2.496\n",
      "Strategy Maximun Drawdown: 0.19\n",
      "Hold and Buy Drawdown: 0.424\n"
     ]
    }
   ],
   "source": [
    "result = performance_2_class.performance_model(X_test,y_test,rf.predict(X_test),returns_real)"
   ]
  },
  {
   "cell_type": "code",
   "execution_count": 165,
   "id": "0d356e6c",
   "metadata": {},
   "outputs": [
    {
     "name": "stdout",
     "output_type": "stream",
     "text": [
      "Strategy Performance: 2.641\n",
      "Hold and Buy Performance: 2.496\n",
      "Strategy Maximun Drawdown: 0.121\n",
      "Hold and Buy Drawdown: 0.424\n"
     ]
    }
   ],
   "source": [
    "result = performance_2_class.performance_model(X_test,y_test,evc.predict(X_test),returns_real)"
   ]
  },
  {
   "cell_type": "code",
   "execution_count": null,
   "id": "f5e22987",
   "metadata": {},
   "outputs": [],
   "source": []
  },
  {
   "cell_type": "code",
   "execution_count": null,
   "id": "d9f2957a",
   "metadata": {},
   "outputs": [],
   "source": []
  },
  {
   "cell_type": "code",
   "execution_count": null,
   "id": "a57ab212",
   "metadata": {},
   "outputs": [],
   "source": []
  },
  {
   "cell_type": "code",
   "execution_count": 30,
   "id": "5b0808b6",
   "metadata": {},
   "outputs": [],
   "source": [
    "\n",
    "#validation = pd.DataFrame()\n",
    "#validation[\"returns_real_buy_hold_daily\"]=X_test.Close.pct_change()\n",
    "#validation[\"returns_open_close_daily\"]=returns_real\n",
    "#validation[\"y_test_real\"]=y_test\n",
    "#validation[\"y_test_predicted\"]=y_test_predicted\n",
    "#validation[\"action\"]=validation[\"y_test_real\"]==validation[\"y_test_predicted\"]\n",
    "#validation[\"position\"] = np.where(validation[\"y_test_predicted\"]<1, -1, 1 )\n",
    "\n",
    "#validation[\"strategy_performance_day\"] = 1 + validation.position * validation[\"returns_open_close_daily\"]\n",
    "#validation[\"strategy_creturns\"]=validation.strategy_performance_day.cumprod()\n",
    "\n",
    "#validation[\"hold_performance_day\"] = 1 + validation[\"returns_real_buy_hold_daily\"]\n",
    "#validation[\"hold_creturns\"]=validation.hold_performance_day.cumprod()"
   ]
  },
  {
   "cell_type": "code",
   "execution_count": null,
   "id": "9954dd30",
   "metadata": {},
   "outputs": [],
   "source": []
  },
  {
   "cell_type": "code",
   "execution_count": null,
   "id": "a6616ba5",
   "metadata": {},
   "outputs": [],
   "source": []
  },
  {
   "cell_type": "code",
   "execution_count": null,
   "id": "a4b362c8",
   "metadata": {},
   "outputs": [],
   "source": []
  }
 ],
 "metadata": {
  "kernelspec": {
   "display_name": "Python 3 (ipykernel)",
   "language": "python",
   "name": "python3"
  },
  "language_info": {
   "codemirror_mode": {
    "name": "ipython",
    "version": 3
   },
   "file_extension": ".py",
   "mimetype": "text/x-python",
   "name": "python",
   "nbconvert_exporter": "python",
   "pygments_lexer": "ipython3",
   "version": "3.9.7"
  }
 },
 "nbformat": 4,
 "nbformat_minor": 5
}
